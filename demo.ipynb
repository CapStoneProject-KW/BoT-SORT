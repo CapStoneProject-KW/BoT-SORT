{
 "cells": [
  {
   "cell_type": "code",
   "execution_count": null,
   "metadata": {},
   "outputs": [],
   "source": [
    "from server.model import run_model\n",
    "\n",
    "mode = 'tracking' # 'detection' or 'tracking'\n",
    "data_path = './datasets/last_dance/single_person/user_video.mp4' # Path to video\n",
    "ckpt_path = './pretrained/yolov7.pt' if mode == 'tracking' \\\n",
    "                else './pretrained/yolov7-w6-pose.pt' # Path to model weight file"
   ]
  },
  {
   "cell_type": "code",
   "execution_count": null,
   "metadata": {},
   "outputs": [],
   "source": [
    "if mode == 'detection':\n",
    "    det_result = run_model(mode, data_path, ckpt_path)\n",
    "elif mode == 'tracking':\n",
    "    kpt_result, mot_result = run_model(mode, data_path, ckpt_path)"
   ]
  }
 ],
 "metadata": {
  "language_info": {
   "name": "python"
  },
  "orig_nbformat": 4
 },
 "nbformat": 4,
 "nbformat_minor": 2
}
